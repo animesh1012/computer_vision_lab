{
  "nbformat": 4,
  "nbformat_minor": 0,
  "metadata": {
    "colab": {
      "provenance": []
    },
    "kernelspec": {
      "name": "python3",
      "display_name": "Python 3"
    },
    "language_info": {
      "name": "python"
    }
  },
  "cells": [
    {
      "cell_type": "markdown",
      "source": [
        "##Importing Libraries"
      ],
      "metadata": {
        "id": "T6S0FqoLFNLP"
      }
    },
    {
      "cell_type": "code",
      "source": [
        "import numpy as np\n",
        "import math\n",
        "axis = np.array([1/3, 1/3, 1/3])**(1/2)\n",
        "angle = math.pi/3"
      ],
      "metadata": {
        "id": "va2I3IMYETL7"
      },
      "execution_count": 268,
      "outputs": []
    },
    {
      "cell_type": "markdown",
      "source": [
        "## Rodrigues formula"
      ],
      "metadata": {
        "id": "9rSTwVct-7O1"
      }
    },
    {
      "cell_type": "code",
      "source": [
        "def rodrigues(axis, angle):\n",
        "    \"\"\"\n",
        "    Rodrigues formula for rotating a point around an axis by a given angle.\n",
        "    \"\"\"\n",
        "    axis = np.asarray(axis)\n",
        "    axis = axis / np.sqrt(np.dot(axis, axis))\n",
        "    a = np.cos(angle / 2.0)\n",
        "    b, c, d = -axis * np.sin(angle / 2.0)\n",
        "    aa, bb, cc, dd = a * a, b * b, c * c, d * d\n",
        "    bc, ad, ac, ab, bd, cd = b * c, a * d, a * c, a * b, b * d, c * d\n",
        "    return np.array([[aa + bb - cc - dd, 2 * (bc + ad), 2 * (bd - ac)],\n",
        "                     [2 * (bc - ad), aa + cc - bb - dd, 2 * (cd + ab)],\n",
        "                     [2 * (bd + ac), 2 * (cd - ab), aa + dd - bb - cc]])\n",
        "# This function takes an axis of rotation (a 3D vector) and an angle of rotation (in radians) as inputs, and returns a 3x3 rotation matrix that can be used to rotate a point around the given axis by the specified angle.\n",
        "\n",
        "# For example, you can use this function as follows:\n",
        "\n",
        "# Copy code\n",
        "# Rotate a point (1, 0, 0) around the y-axis by 90 degrees\n"
      ],
      "metadata": {
        "id": "RVpY0NJrD0_e"
      },
      "execution_count": 269,
      "outputs": []
    },
    {
      "cell_type": "markdown",
      "source": [
        "#### If v is a vector in ℝ3 and k is a unit vector describing an axis of rotation about which v rotates by an angle θ according to the right hand rule, the Rodrigues formula for the rotated vector vrot is"
      ],
      "metadata": {
        "id": "aVRWMPSF_gH-"
      }
    },
    {
      "cell_type": "code",
      "source": [
        "##Rotation matrix\n",
        "R = rodrigues(axis, angle)\n",
        "print(R)"
      ],
      "metadata": {
        "colab": {
          "base_uri": "https://localhost:8080/"
        },
        "id": "lXXZFSsBEr0U",
        "outputId": "2aea13b4-02db-485f-ced8-2c0a2833d109"
      },
      "execution_count": 270,
      "outputs": [
        {
          "output_type": "stream",
          "name": "stdout",
          "text": [
            "[[ 0.66666667 -0.33333333  0.66666667]\n",
            " [ 0.66666667  0.66666667 -0.33333333]\n",
            " [-0.33333333  0.66666667  0.66666667]]\n"
          ]
        }
      ]
    },
    {
      "cell_type": "code",
      "source": [
        "!pip install openmesh"
      ],
      "metadata": {
        "colab": {
          "base_uri": "https://localhost:8080/"
        },
        "id": "3WKSxDm-u309",
        "outputId": "92203d25-b00d-4cf2-dfc1-156fc72376df"
      },
      "execution_count": 271,
      "outputs": [
        {
          "output_type": "stream",
          "name": "stdout",
          "text": [
            "Looking in indexes: https://pypi.org/simple, https://us-python.pkg.dev/colab-wheels/public/simple/\n",
            "Requirement already satisfied: openmesh in /usr/local/lib/python3.8/dist-packages (1.2.1)\n",
            "Requirement already satisfied: numpy in /usr/local/lib/python3.8/dist-packages (from openmesh) (1.21.6)\n"
          ]
        }
      ]
    },
    {
      "cell_type": "markdown",
      "source": [
        "## Reading Obj file"
      ],
      "metadata": {
        "id": "NnQOtalmBSnn"
      }
    },
    {
      "cell_type": "code",
      "source": [
        "import openmesh as om\n",
        "mesh_2 = om.read_trimesh(\"/content/cube.obj\")\n",
        "point_array = mesh_2.points()"
      ],
      "metadata": {
        "id": "8yxZaM1Wvozv"
      },
      "execution_count": 272,
      "outputs": []
    },
    {
      "cell_type": "markdown",
      "source": [
        "## Printing Coordinates of vertex"
      ],
      "metadata": {
        "id": "1crwi_GyBM58"
      }
    },
    {
      "cell_type": "code",
      "source": [
        "point_array\n"
      ],
      "metadata": {
        "colab": {
          "base_uri": "https://localhost:8080/"
        },
        "id": "u7mkfQ_RAIs6",
        "outputId": "d7245bff-dce4-4fa5-9d37-880d9f2be2b6"
      },
      "execution_count": 273,
      "outputs": [
        {
          "output_type": "execute_result",
          "data": {
            "text/plain": [
              "array([[ 1.,  1., -1.],\n",
              "       [ 1., -1., -1.],\n",
              "       [ 1.,  1.,  1.],\n",
              "       [ 1., -1.,  1.],\n",
              "       [-1.,  1., -1.],\n",
              "       [-1., -1., -1.],\n",
              "       [-1.,  1.,  1.],\n",
              "       [-1., -1.,  1.]])"
            ]
          },
          "metadata": {},
          "execution_count": 273
        }
      ]
    },
    {
      "cell_type": "code",
      "source": [
        "p_prime = point_array\n",
        "print(p_prime)"
      ],
      "metadata": {
        "colab": {
          "base_uri": "https://localhost:8080/"
        },
        "id": "E9i7_Iq2RlQN",
        "outputId": "b9605183-305b-4d2b-9e04-a8f021f6d749"
      },
      "execution_count": 275,
      "outputs": [
        {
          "output_type": "stream",
          "name": "stdout",
          "text": [
            "[[ 1.  1. -1.]\n",
            " [ 1. -1. -1.]\n",
            " [ 1.  1.  1.]\n",
            " [ 1. -1.  1.]\n",
            " [-1.  1. -1.]\n",
            " [-1. -1. -1.]\n",
            " [-1.  1.  1.]\n",
            " [-1. -1.  1.]]\n"
          ]
        }
      ]
    },
    {
      "cell_type": "code",
      "source": [
        "p_prime.shape"
      ],
      "metadata": {
        "colab": {
          "base_uri": "https://localhost:8080/"
        },
        "id": "9P2rtIxgTpju",
        "outputId": "63be4897-6c27-4db5-ffb8-98bc447cf001"
      },
      "execution_count": 276,
      "outputs": [
        {
          "output_type": "execute_result",
          "data": {
            "text/plain": [
              "(8, 3)"
            ]
          },
          "metadata": {},
          "execution_count": 276
        }
      ]
    },
    {
      "cell_type": "markdown",
      "source": [
        "##Applying Rotation on each coordinate of cube"
      ],
      "metadata": {
        "id": "rotweMpjA_qE"
      }
    },
    {
      "cell_type": "code",
      "source": [
        "point_array[0] = np.matmul(R,point_array[0])\n",
        "point_array[1] = np.matmul(R,point_array[1])\n",
        "point_array[2] = np.matmul(R,point_array[2])\n",
        "point_array[3] = np.matmul(R,point_array[3])\n",
        "point_array[4] = np.matmul(R,point_array[4])\n",
        "point_array[5] = np.matmul(R,point_array[5])\n",
        "point_array[6] = np.matmul(R,point_array[6])\n",
        "point_array[7] = np.matmul(R,point_array[7])"
      ],
      "metadata": {
        "id": "86B5weupxyXj"
      },
      "execution_count": 277,
      "outputs": []
    },
    {
      "cell_type": "code",
      "source": [
        "##Writing New Mesh file\n",
        "om.write_mesh('cube_2.obj', mesh_2)"
      ],
      "metadata": {
        "id": "6RILTmdWx4v7"
      },
      "execution_count": 278,
      "outputs": []
    },
    {
      "cell_type": "code",
      "source": [
        "point_array"
      ],
      "metadata": {
        "id": "FUMK7qOFCF-v",
        "colab": {
          "base_uri": "https://localhost:8080/"
        },
        "outputId": "05635eff-9c06-4817-dc50-46e822db2365"
      },
      "execution_count": 279,
      "outputs": [
        {
          "output_type": "execute_result",
          "data": {
            "text/plain": [
              "array([[-0.33333333,  1.66666667, -0.33333333],\n",
              "       [ 0.33333333,  0.33333333, -1.66666667],\n",
              "       [ 1.        ,  1.        ,  1.        ],\n",
              "       [ 1.66666667, -0.33333333, -0.33333333],\n",
              "       [-1.66666667,  0.33333333,  0.33333333],\n",
              "       [-1.        , -1.        , -1.        ],\n",
              "       [-0.33333333, -0.33333333,  1.66666667],\n",
              "       [ 0.33333333, -1.66666667,  0.33333333]])"
            ]
          },
          "metadata": {},
          "execution_count": 279
        }
      ]
    },
    {
      "cell_type": "code",
      "source": [
        "q_prime = point_array\n",
        "print(q_prime)"
      ],
      "metadata": {
        "colab": {
          "base_uri": "https://localhost:8080/"
        },
        "id": "VpK1tGsKR7jW",
        "outputId": "19a4bdb2-b0cf-4c11-ed39-43bfa95fa6cf"
      },
      "execution_count": 280,
      "outputs": [
        {
          "output_type": "stream",
          "name": "stdout",
          "text": [
            "[[-0.33333333  1.66666667 -0.33333333]\n",
            " [ 0.33333333  0.33333333 -1.66666667]\n",
            " [ 1.          1.          1.        ]\n",
            " [ 1.66666667 -0.33333333 -0.33333333]\n",
            " [-1.66666667  0.33333333  0.33333333]\n",
            " [-1.         -1.         -1.        ]\n",
            " [-0.33333333 -0.33333333  1.66666667]\n",
            " [ 0.33333333 -1.66666667  0.33333333]]\n"
          ]
        }
      ]
    },
    {
      "cell_type": "code",
      "source": [
        "q_prime_t = np.transpose(q_prime)"
      ],
      "metadata": {
        "id": "xsVD0NgQTMhe"
      },
      "execution_count": 281,
      "outputs": []
    },
    {
      "cell_type": "code",
      "source": [
        "q_prime_t.shape"
      ],
      "metadata": {
        "colab": {
          "base_uri": "https://localhost:8080/"
        },
        "id": "H2wMCCtMT6sg",
        "outputId": "3c3fab11-f01c-4125-e824-a72bd13c4000"
      },
      "execution_count": 282,
      "outputs": [
        {
          "output_type": "execute_result",
          "data": {
            "text/plain": [
              "(3, 8)"
            ]
          },
          "metadata": {},
          "execution_count": 282
        }
      ]
    },
    {
      "cell_type": "markdown",
      "source": [
        "## Formula Used\n",
        "\n",
        "*   S = q_prime_transpose . p_prime\n",
        "*   U, sigma, V = SVD(S)\n",
        "\n",
        "\n",
        "*   R = V . U_transpose\n",
        "*   U,V are orthogonal\n",
        "\n",
        "*   Determinant(R) = +1 , means rotation\n",
        "*   Determinant(R) = -1 , means reflection\n",
        "R = Rotation matrix, q_prime = rotated relative position,\n",
        "p_prime = actual relative position,\n",
        "p,q = actual coodinates of vertices of cube before and after rotatio respectively."
      ],
      "metadata": {
        "id": "EgrO_KJalhll"
      }
    },
    {
      "cell_type": "code",
      "source": [
        "## S = q'_transpose * p'\n",
        "S = np.matmul(q_prime_t,p_prime)"
      ],
      "metadata": {
        "id": "SI0rsexOR8rG"
      },
      "execution_count": 283,
      "outputs": []
    },
    {
      "cell_type": "code",
      "source": [
        "S"
      ],
      "metadata": {
        "colab": {
          "base_uri": "https://localhost:8080/"
        },
        "id": "Rj8HprJSTDlM",
        "outputId": "972badbf-b860-4a94-93bf-73c9177ed7d8"
      },
      "execution_count": 284,
      "outputs": [
        {
          "output_type": "execute_result",
          "data": {
            "text/plain": [
              "array([[8.00000000e+00, 4.74928738e-16, 6.32210333e-17],\n",
              "       [4.74928738e-16, 8.00000000e+00, 3.63906436e-16],\n",
              "       [6.32210333e-17, 3.63906436e-16, 8.00000000e+00]])"
            ]
          },
          "metadata": {},
          "execution_count": 284
        }
      ]
    },
    {
      "cell_type": "code",
      "source": [
        "##Taking SVD of S\n",
        "U,sigma,V = np.linalg.svd(S)"
      ],
      "metadata": {
        "id": "3D1_idCZUAj3"
      },
      "execution_count": 285,
      "outputs": []
    },
    {
      "cell_type": "code",
      "source": [
        "R_new = np.matmul(V,np.transpose(U))"
      ],
      "metadata": {
        "id": "O991-AzZUfEt"
      },
      "execution_count": 286,
      "outputs": []
    },
    {
      "cell_type": "code",
      "source": [
        "R_new"
      ],
      "metadata": {
        "colab": {
          "base_uri": "https://localhost:8080/"
        },
        "id": "Wi0oqDRlVMib",
        "outputId": "a7a8413e-b5f5-4ff7-b719-91e44c821341"
      },
      "execution_count": 287,
      "outputs": [
        {
          "output_type": "execute_result",
          "data": {
            "text/plain": [
              "array([[ 9.91255986e-01,  1.74115697e-02, -1.30799109e-01],\n",
              "       [-5.98897693e-17,  9.91255986e-01,  1.31952907e-01],\n",
              "       [ 1.31952907e-01, -1.30799109e-01,  9.82588430e-01]])"
            ]
          },
          "metadata": {},
          "execution_count": 287
        }
      ]
    },
    {
      "cell_type": "code",
      "source": [
        "diff = R-R_new"
      ],
      "metadata": {
        "id": "_N_VN1odVN8L"
      },
      "execution_count": 288,
      "outputs": []
    },
    {
      "cell_type": "code",
      "source": [
        "diff"
      ],
      "metadata": {
        "colab": {
          "base_uri": "https://localhost:8080/"
        },
        "id": "a2g3F37nZTpn",
        "outputId": "0c647258-9c8f-429b-dfdd-e7aaff03829b"
      },
      "execution_count": 289,
      "outputs": [
        {
          "output_type": "execute_result",
          "data": {
            "text/plain": [
              "array([[-0.32458932, -0.3507449 ,  0.79746578],\n",
              "       [ 0.66666667, -0.32458932, -0.46528624],\n",
              "       [-0.46528624,  0.79746578, -0.31592176]])"
            ]
          },
          "metadata": {},
          "execution_count": 289
        }
      ]
    },
    {
      "cell_type": "code",
      "source": [
        "## Taking Determinant\n",
        "print(np.linalg.det(R))"
      ],
      "metadata": {
        "colab": {
          "base_uri": "https://localhost:8080/"
        },
        "id": "Ghx1XeEpZUfV",
        "outputId": "4e893854-6a6e-4ce8-849a-f216bdbdc288"
      },
      "execution_count": 290,
      "outputs": [
        {
          "output_type": "stream",
          "name": "stdout",
          "text": [
            "1.0\n"
          ]
        }
      ]
    },
    {
      "cell_type": "code",
      "source": [
        "## Taking Determinant\n",
        "print(np.linalg.det(R_new))"
      ],
      "metadata": {
        "colab": {
          "base_uri": "https://localhost:8080/"
        },
        "id": "HG0kl20lZlPy",
        "outputId": "4905872c-b5e9-47ae-a0a4-ae8586a8a10e"
      },
      "execution_count": 291,
      "outputs": [
        {
          "output_type": "stream",
          "name": "stdout",
          "text": [
            "0.9999999999999998\n"
          ]
        }
      ]
    },
    {
      "cell_type": "code",
      "source": [
        "##Adding Gaussian noise in q_prime\n",
        "import random\n",
        "temp = random.gauss(0, 0.5**0.5)\n",
        "q_prime_noise = q_prime+temp"
      ],
      "metadata": {
        "id": "ngQmSKcgZpca"
      },
      "execution_count": 292,
      "outputs": []
    },
    {
      "cell_type": "code",
      "source": [
        "##Adding Noise in point q_prime 0\n",
        "q_prime_noise[0]+=5"
      ],
      "metadata": {
        "id": "mUKMNoSqaQRr"
      },
      "execution_count": 293,
      "outputs": []
    },
    {
      "cell_type": "code",
      "source": [
        "p_prime.shape"
      ],
      "metadata": {
        "colab": {
          "base_uri": "https://localhost:8080/"
        },
        "id": "nWN0qWkgb_wz",
        "outputId": "b87e41ac-a6d1-4cd8-facb-225f6e6f987f"
      },
      "execution_count": 294,
      "outputs": [
        {
          "output_type": "execute_result",
          "data": {
            "text/plain": [
              "(8, 3)"
            ]
          },
          "metadata": {},
          "execution_count": 294
        }
      ]
    },
    {
      "cell_type": "code",
      "source": [
        "q_prime_noise.shape"
      ],
      "metadata": {
        "colab": {
          "base_uri": "https://localhost:8080/"
        },
        "id": "fbLkAou7cTBf",
        "outputId": "b492999a-9b0d-4fcf-f7cd-d71ef951109d"
      },
      "execution_count": 295,
      "outputs": [
        {
          "output_type": "execute_result",
          "data": {
            "text/plain": [
              "(8, 3)"
            ]
          },
          "metadata": {},
          "execution_count": 295
        }
      ]
    },
    {
      "cell_type": "code",
      "source": [
        "s_n = np.matmul(np.transpose(q_prime_noise),p_prime)"
      ],
      "metadata": {
        "id": "0ER9IOZga3gA"
      },
      "execution_count": 296,
      "outputs": []
    },
    {
      "cell_type": "code",
      "source": [
        "s_n"
      ],
      "metadata": {
        "colab": {
          "base_uri": "https://localhost:8080/"
        },
        "id": "ALLcuebob3sd",
        "outputId": "e453be51-30e1-4f8f-de6b-48d942171a7a"
      },
      "execution_count": 297,
      "outputs": [
        {
          "output_type": "execute_result",
          "data": {
            "text/plain": [
              "array([[ 6.33333333,  8.33333333, -1.66666667],\n",
              "       [-1.66666667, 16.33333333, -1.66666667],\n",
              "       [-1.66666667,  8.33333333,  6.33333333]])"
            ]
          },
          "metadata": {},
          "execution_count": 297
        }
      ]
    },
    {
      "cell_type": "code",
      "source": [
        "U_n,sig_n,V_n = np.linalg.svd(s_n)"
      ],
      "metadata": {
        "id": "66ukB_Bsb4U-"
      },
      "execution_count": 298,
      "outputs": []
    },
    {
      "cell_type": "code",
      "source": [
        "R_noise = np.matmul(V_n,np.transpose(U_n))\n",
        "print(R_noise)"
      ],
      "metadata": {
        "colab": {
          "base_uri": "https://localhost:8080/"
        },
        "id": "_1uv6o2Xcla1",
        "outputId": "57dd9f2a-b67b-4e2a-df80-df787122b333"
      },
      "execution_count": 299,
      "outputs": [
        {
          "output_type": "stream",
          "name": "stdout",
          "text": [
            "[[-0.67603014  0.00646516  0.73684561]\n",
            " [ 0.10512639 -0.98888669  0.10512639]\n",
            " [ 0.72933647  0.14853053  0.66783755]]\n"
          ]
        }
      ]
    },
    {
      "cell_type": "code",
      "source": [
        "print(R_new-R_noise)"
      ],
      "metadata": {
        "colab": {
          "base_uri": "https://localhost:8080/"
        },
        "id": "_xC9dMlRcxzP",
        "outputId": "ef7ee021-539a-47fc-fc06-c3004820f67b"
      },
      "execution_count": 300,
      "outputs": [
        {
          "output_type": "stream",
          "name": "stdout",
          "text": [
            "[[ 1.66728613  0.01094641 -0.86764472]\n",
            " [-0.10512639  1.98014268  0.02682652]\n",
            " [-0.59738357 -0.27932964  0.31475088]]\n"
          ]
        }
      ]
    },
    {
      "cell_type": "code",
      "source": [
        "##Determinant of Noisy rotation matrix\n",
        "det_R_noise = np.linalg.det(R_noise)"
      ],
      "metadata": {
        "id": "0Y36qXOLc9YF"
      },
      "execution_count": 301,
      "outputs": []
    },
    {
      "cell_type": "code",
      "source": [
        "det_R_noise"
      ],
      "metadata": {
        "colab": {
          "base_uri": "https://localhost:8080/"
        },
        "id": "AwncmbiudX2q",
        "outputId": "16f660ac-deb5-4091-c729-57192a41ec2e"
      },
      "execution_count": 302,
      "outputs": [
        {
          "output_type": "execute_result",
          "data": {
            "text/plain": [
              "1.0000000000000013"
            ]
          },
          "metadata": {},
          "execution_count": 302
        }
      ]
    },
    {
      "cell_type": "code",
      "source": [],
      "metadata": {
        "id": "6sZePWOOdZoQ"
      },
      "execution_count": null,
      "outputs": []
    }
  ]
}